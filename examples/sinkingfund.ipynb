{
 "cells": [
  {
   "cell_type": "markdown",
   "metadata": {},
   "source": [
    "## Imports"
   ]
  },
  {
   "cell_type": "code",
   "execution_count": 1,
   "metadata": {},
   "outputs": [],
   "source": [
    "########################################################################\n",
    "## FOR NOTEBOOKS ONLY: ADD THE PROJECT ROOT TO THE PYTHON PATH\n",
    "########################################################################\n",
    "\n",
    "import os\n",
    "import sys\n",
    "\n",
    "sys.path.insert(\n",
    "    0, os.path.abspath(os.path.join(os.getcwd(), '..'))\n",
    ")"
   ]
  },
  {
   "cell_type": "code",
   "execution_count": 2,
   "metadata": {},
   "outputs": [],
   "source": [
    "import datetime\n",
    "\n",
    "from sinkingfund import SinkingFund"
   ]
  },
  {
   "cell_type": "markdown",
   "metadata": {},
   "source": [
    "## Inputs"
   ]
  },
  {
   "cell_type": "code",
   "execution_count": 3,
   "metadata": {},
   "outputs": [],
   "source": [
    "# Sinking fund inputs.\n",
    "bill_path = 'data/schwab_fund.csv'\n",
    "start_planning_date = datetime.date(2025, 1, 1)\n",
    "end_planning_date = datetime.date(2025, 12, 31)\n",
    "balance = 10000\n",
    "contribution_interval = 14"
   ]
  },
  {
   "cell_type": "markdown",
   "metadata": {},
   "source": [
    "## Initialize Sinking Fund"
   ]
  },
  {
   "cell_type": "code",
   "execution_count": 4,
   "metadata": {},
   "outputs": [],
   "source": [
    "# Create sinking fund.\n",
    "sinkingfund = SinkingFund(\n",
    "    start_date=start_planning_date, end_date=end_planning_date, balance=balance\n",
    ")"
   ]
  },
  {
   "cell_type": "markdown",
   "metadata": {},
   "source": [
    "## Create Envelopes"
   ]
  },
  {
   "cell_type": "code",
   "execution_count": null,
   "metadata": {},
   "outputs": [],
   "source": [
    "# Create bills.\n",
    "sinkingfund.create_bills(source=bill_path)\n",
    "\n",
    "# Get bills in range for the planning window.\n",
    "instances = sinkingfund.get_bills_in_range()\n",
    "\n",
    "# Create envelopes.\n",
    "sinkingfund.create_envelopes(instances)"
   ]
  },
  {
   "cell_type": "markdown",
   "metadata": {},
   "source": [
    "## Allocate Existing Account Balance"
   ]
  },
  {
   "cell_type": "code",
   "execution_count": 7,
   "metadata": {},
   "outputs": [],
   "source": [
    "# Set the allocation strategy.\n",
    "sinkingfund.set_allocation_strategy(strategy='sorted', sort_key='cascade')\n",
    "\n",
    "# Allocate the balance.\n",
    "sinkingfund.allocate_balance()\n",
    "\n",
    "# Set the contribution interval.\n",
    "sinkingfund.update_contribution_dates(\n",
    "    contribution_interval=contribution_interval\n",
    ")"
   ]
  },
  {
   "cell_type": "markdown",
   "metadata": {},
   "source": [
    "## Schedule Cash Flows"
   ]
  },
  {
   "cell_type": "code",
   "execution_count": 8,
   "metadata": {},
   "outputs": [],
   "source": [
    "# Set the scheduler.\n",
    "sinkingfund.set_scheduler(strategy='independent_scheduler')\n",
    "\n",
    "# Create schedules.\n",
    "sinkingfund.create_schedules()"
   ]
  }
 ],
 "metadata": {
  "kernelspec": {
   "display_name": "sinkingfund-PK5ArdCJ-py3.12",
   "language": "python",
   "name": "python3"
  },
  "language_info": {
   "codemirror_mode": {
    "name": "ipython",
    "version": 3
   },
   "file_extension": ".py",
   "mimetype": "text/x-python",
   "name": "python",
   "nbconvert_exporter": "python",
   "pygments_lexer": "ipython3",
   "version": "3.12.1"
  }
 },
 "nbformat": 4,
 "nbformat_minor": 2
}
