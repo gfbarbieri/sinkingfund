{
 "cells": [
  {
   "cell_type": "markdown",
   "metadata": {},
   "source": [
    "## Imports"
   ]
  },
  {
   "cell_type": "code",
   "execution_count": 1,
   "metadata": {},
   "outputs": [],
   "source": [
    "########################################################################\n",
    "## FOR NOTEBOOKS ONLY: ADD THE PROJECT ROOT TO THE PYTHON PATH\n",
    "########################################################################\n",
    "\n",
    "import os\n",
    "import sys\n",
    "\n",
    "sys.path.insert(\n",
    "    0, os.path.abspath(os.path.join(os.getcwd(), '..'))\n",
    ")"
   ]
  },
  {
   "cell_type": "code",
   "execution_count": 2,
   "metadata": {},
   "outputs": [],
   "source": [
    "import datetime\n",
    "\n",
    "from sinkingfund.allocation.sorted import SortedAllocator\n",
    "from sinkingfund.utils.loaders import load_envelopes_from_csv, load_bills_from_csv\n",
    "from sinkingfund.schedules.indep_scheduler import IndependentScheduler\n",
    "from sinkingfund.schedules.lp_scheduler import LPScheduler"
   ]
  },
  {
   "cell_type": "markdown",
   "metadata": {},
   "source": [
    "Set exogenous details."
   ]
  },
  {
   "cell_type": "code",
   "execution_count": 3,
   "metadata": {},
   "outputs": [],
   "source": [
    "# Set bill path.\n",
    "bill_path = 'data/schwab_fund.csv'\n",
    "\n",
    "# Set start dates, existing balance, and contribution interval.\n",
    "start_date = datetime.date(2025, 1, 1)\n",
    "balance = 0\n",
    "interval = 14"
   ]
  },
  {
   "cell_type": "markdown",
   "metadata": {},
   "source": [
    "Initialize allocator and schedule."
   ]
  },
  {
   "cell_type": "code",
   "execution_count": 4,
   "metadata": {},
   "outputs": [],
   "source": [
    "# Initialize the allocator and scheduler.\n",
    "allocator = SortedAllocator(sort_key='cascade')\n",
    "scheduler = IndependentScheduler()\n",
    "lpscheduler = LPScheduler()"
   ]
  },
  {
   "cell_type": "markdown",
   "metadata": {},
   "source": [
    "Load bills."
   ]
  },
  {
   "cell_type": "code",
   "execution_count": 5,
   "metadata": {},
   "outputs": [],
   "source": [
    "# Load the bills as envelopes.\n",
    "# envelopes = load_envelopes_from_csv(bill_path, interval)\n",
    "bills = load_bills_from_csv(bill_path)"
   ]
  },
  {
   "cell_type": "code",
   "execution_count": 6,
   "metadata": {},
   "outputs": [
    {
     "data": {
      "text/plain": [
       "{'bill_id': 'suburu_reg',\n",
       " 'service': 'Car Registraion',\n",
       " 'amount_due': 191.0,\n",
       " 'recurring': True,\n",
       " 'start_date': datetime.date(2025, 5, 12),\n",
       " 'end_date': None,\n",
       " 'frequency': 'annual',\n",
       " 'interval': 1,\n",
       " 'occurrences': None}"
      ]
     },
     "execution_count": 6,
     "metadata": {},
     "output_type": "execute_result"
    }
   ],
   "source": [
    "bills[0].__dict__"
   ]
  },
  {
   "cell_type": "code",
   "execution_count": 7,
   "metadata": {},
   "outputs": [
    {
     "name": "stdout",
     "output_type": "stream",
     "text": [
      "BillInstance(bill_id='suburu_reg', service='Car Registraion', amount_due=191.0, due_date=datetime.date(2026, 5, 12))\n",
      "BillInstance(bill_id='suburu_reg', service='Car Registraion', amount_due=191.0, due_date=datetime.date(2027, 5, 12))\n",
      "[BillInstance(bill_id='suburu_reg', service='Car Registraion', amount_due=191.0, due_date=datetime.date(2026, 5, 12))]\n",
      "BillInstance(bill_id='suburu_reg', service='Car Registraion', amount_due=191.0, due_date=datetime.date(2026, 5, 12))\n",
      "BillInstance(bill_id='suburu_reg', service='Car Registraion', amount_due=191.0, due_date=datetime.date(2027, 5, 12))\n"
     ]
    }
   ],
   "source": [
    "print(bills[0].next_instance(reference_date=datetime.date.today()))\n",
    "\n",
    "print(bills[0].next_instance(\n",
    "    reference_date=datetime.date.today()+datetime.timedelta(days=365)\n",
    "))\n",
    "\n",
    "print(bills[0].instances_in_range(\n",
    "    start_reference=datetime.date.today(),\n",
    "    end_reference=datetime.date.today()+datetime.timedelta(days=365)\n",
    "))\n",
    "\n",
    "in_range = bills[0].instances_in_range(\n",
    "    start_reference=datetime.date.today(),\n",
    "    end_reference=datetime.date.today()+datetime.timedelta(days=365)\n",
    ")\n",
    "\n",
    "print(in_range[0])\n",
    "\n",
    "print(bills[0].next_instance(reference_date=in_range[0].due_date))\n",
    "\n",
    "# bills[0]._next_due_date(curr_due_date=datetime.date(2025, 5, 13))\n",
    "\n",
    "# bills[0]._calculate_occurrences_in_range(\n",
    "#     start_date=datetime.date(2025, 5, 13),\n",
    "#     end_date=datetime.date(2026, 5, 31),\n",
    "#     frequency='annual',\n",
    "#     interval=1\n",
    "# )\n",
    "\n",
    "# bills[0]._increment_date(\n",
    "#     reference_date=datetime.date(2025, 5, 13),\n",
    "#     frequency='annual',\n",
    "#     interval=1,\n",
    "#     num_intervals=1\n",
    "# )\n",
    "\n",
    "# bills[0]._increment_monthly(date=datetime.date(2025, 5, 13), num_months=1) "
   ]
  },
  {
   "cell_type": "code",
   "execution_count": null,
   "metadata": {},
   "outputs": [
    {
     "ename": "TypeError",
     "evalue": "Bill.next_instance() got an unexpected keyword argument 'return_last'",
     "output_type": "error",
     "traceback": [
      "\u001b[31m---------------------------------------------------------------------------\u001b[39m",
      "\u001b[31mTypeError\u001b[39m                                 Traceback (most recent call last)",
      "\u001b[36mCell\u001b[39m\u001b[36m \u001b[39m\u001b[32mIn[6]\u001b[39m\u001b[32m, line 2\u001b[39m\n\u001b[32m      1\u001b[39m \u001b[38;5;66;03m# envelopes[0]#.bill.next_instance()\u001b[39;00m\n\u001b[32m----> \u001b[39m\u001b[32m2\u001b[39m \u001b[43menvelopes\u001b[49m\u001b[43m[\u001b[49m\u001b[32;43m2\u001b[39;49m\u001b[43m]\u001b[49m\u001b[43m.\u001b[49m\u001b[43mnext_instance\u001b[49m\u001b[43m(\u001b[49m\u001b[43mreference_date\u001b[49m\u001b[43m=\u001b[49m\u001b[43mdatetime\u001b[49m\u001b[43m.\u001b[49m\u001b[43mdate\u001b[49m\u001b[43m(\u001b[49m\u001b[32;43m2025\u001b[39;49m\u001b[43m,\u001b[49m\u001b[43m \u001b[49m\u001b[32;43m10\u001b[39;49m\u001b[43m,\u001b[49m\u001b[43m \u001b[49m\u001b[32;43m24\u001b[39;49m\u001b[43m)\u001b[49m\u001b[43m)\u001b[49m\n",
      "\u001b[36mFile \u001b[39m\u001b[32m~/Desktop/sinkingfund/sinkingfund/models/envelope.py:123\u001b[39m, in \u001b[36mEnvelope.next_instance\u001b[39m\u001b[34m(self, reference_date, return_last, inclusive)\u001b[39m\n\u001b[32m    100\u001b[39m \u001b[38;5;250m\u001b[39m\u001b[33;03m\"\"\"\u001b[39;00m\n\u001b[32m    101\u001b[39m \u001b[33;03mGet the next instance of the bill. This method extends the\u001b[39;00m\n\u001b[32m    102\u001b[39m \u001b[33;03m`Bill.next_instance` method by making a correction for the\u001b[39;00m\n\u001b[32m   (...)\u001b[39m\u001b[32m    119\u001b[39m \u001b[33;03m    The next instance of the bill.\u001b[39;00m\n\u001b[32m    120\u001b[39m \u001b[33;03m\"\"\"\u001b[39;00m\n\u001b[32m    122\u001b[39m \u001b[38;5;66;03m# 1. Get the next instance of the bill.\u001b[39;00m\n\u001b[32m--> \u001b[39m\u001b[32m123\u001b[39m bill_instance = \u001b[38;5;28;43mself\u001b[39;49m\u001b[43m.\u001b[49m\u001b[43mbill\u001b[49m\u001b[43m.\u001b[49m\u001b[43mnext_instance\u001b[49m\u001b[43m(\u001b[49m\n\u001b[32m    124\u001b[39m \u001b[43m    \u001b[49m\u001b[43mreference_date\u001b[49m\u001b[43m=\u001b[49m\u001b[43mreference_date\u001b[49m\u001b[43m,\u001b[49m\n\u001b[32m    125\u001b[39m \u001b[43m    \u001b[49m\u001b[43mreturn_last\u001b[49m\u001b[43m=\u001b[49m\u001b[43mreturn_last\u001b[49m\u001b[43m,\u001b[49m\n\u001b[32m    126\u001b[39m \u001b[43m    \u001b[49m\u001b[43minclusive\u001b[49m\u001b[43m=\u001b[49m\u001b[43minclusive\u001b[49m\n\u001b[32m    127\u001b[39m \u001b[43m\u001b[49m\u001b[43m)\u001b[49m\n\u001b[32m    129\u001b[39m \u001b[38;5;66;03m# 2. If there is a next instance, and a balance was allocated\u001b[39;00m\n\u001b[32m    130\u001b[39m \u001b[38;5;66;03m# to the bill, then we need to subtract that from the amount\u001b[39;00m\n\u001b[32m    131\u001b[39m \u001b[38;5;66;03m# due. This is stored in the `remaining` attribute.\u001b[39;00m\n\u001b[32m    132\u001b[39m \u001b[38;5;28;01mif\u001b[39;00m bill_instance \u001b[38;5;129;01mis\u001b[39;00m \u001b[38;5;129;01mnot\u001b[39;00m \u001b[38;5;28;01mNone\u001b[39;00m \u001b[38;5;129;01mand\u001b[39;00m \u001b[38;5;28mself\u001b[39m.remaining \u001b[38;5;129;01mis\u001b[39;00m \u001b[38;5;129;01mnot\u001b[39;00m \u001b[38;5;28;01mNone\u001b[39;00m:\n",
      "\u001b[31mTypeError\u001b[39m: Bill.next_instance() got an unexpected keyword argument 'return_last'"
     ]
    }
   ],
   "source": [
    "# envelopes[0]#.bill.next_instance()\n",
    "envelopes[2].next_instance(reference_date=datetime.date(2025, 10, 24))"
   ]
  },
  {
   "cell_type": "code",
   "execution_count": null,
   "metadata": {},
   "outputs": [
    {
     "data": {
      "text/plain": [
       "datetime.date(2026, 4, 24)"
      ]
     },
     "execution_count": 18,
     "metadata": {},
     "output_type": "execute_result"
    }
   ],
   "source": [
    "# envelopes[2].bill._next_due_date(date=datetime.date(2025, 10, 1))\n",
    "envelopes[2].bill._increment_monthly(date=datetime.date(2025, 10, 24), num_months=6)"
   ]
  },
  {
   "cell_type": "markdown",
   "metadata": {},
   "source": [
    "Allocate any existing balance."
   ]
  },
  {
   "cell_type": "code",
   "execution_count": null,
   "metadata": {},
   "outputs": [
    {
     "name": "stdout",
     "output_type": "stream",
     "text": [
      "\n",
      "    Bill: suburu_reg\n",
      "    Amount Due: 191.0\n",
      "    Allocated: 0\n",
      "    Remaining: 191.0\n",
      "    \n",
      "\n",
      "    Bill: honda_reg\n",
      "    Amount Due: 334.0\n",
      "    Allocated: 0\n",
      "    Remaining: 334.0\n",
      "    \n",
      "\n",
      "    Bill: car_insur\n",
      "    Amount Due: 774.76\n",
      "    Allocated: 0\n",
      "    Remaining: 774.76\n",
      "    \n",
      "\n",
      "    Bill: prop_tax_1\n",
      "    Amount Due: 13161.15\n",
      "    Allocated: 0\n",
      "    Remaining: 13161.15\n",
      "    \n",
      "\n",
      "    Bill: prop_tax_2\n",
      "    Amount Due: 13161.15\n",
      "    Allocated: 0\n",
      "    Remaining: 13161.15\n",
      "    \n",
      "\n",
      "    Bill: home_insur\n",
      "    Amount Due: 3000.0\n",
      "    Allocated: 0\n",
      "    Remaining: 3000.0\n",
      "    \n"
     ]
    }
   ],
   "source": [
    "# Allocate existing balance to the envelopes using the cascade sort key.\n",
    "allocator.allocate(envelopes=envelopes, balance=balance, curr_date=start_date)\n",
    "\n",
    "for e in envelopes:\n",
    "    print(\n",
    "    f\"\"\"\n",
    "    Bill: {e.bill.bill_id}\n",
    "    Amount Due: {e.bill.amount_due}\n",
    "    Allocated: {e.allocated}\n",
    "    Remaining: {e.remaining}\n",
    "    \"\"\"\n",
    "   )"
   ]
  },
  {
   "cell_type": "markdown",
   "metadata": {},
   "source": [
    "Create contribution schedules."
   ]
  },
  {
   "cell_type": "code",
   "execution_count": null,
   "metadata": {},
   "outputs": [],
   "source": [
    "# Schedule the contributions.\n",
    "scheduler.schedule(envelopes=envelopes, start_date=start_date)\n",
    "# lpscheduler.schedule(envelopes=envelopes, start_date=start_date)"
   ]
  },
  {
   "cell_type": "code",
   "execution_count": null,
   "metadata": {},
   "outputs": [
    {
     "data": {
      "text/plain": [
       "30622.059999999998"
      ]
     },
     "execution_count": 92,
     "metadata": {},
     "output_type": "execute_result"
    }
   ],
   "source": [
    "sum([sum([cf.amount for cf in e.schedule if cf.amount > 0]) for e in envelopes])"
   ]
  },
  {
   "cell_type": "code",
   "execution_count": null,
   "metadata": {},
   "outputs": [
    {
     "name": "stdout",
     "output_type": "stream",
     "text": [
      "2025-01-01 suburu_reg 20.18\n",
      "2025-01-01 honda_reg 33.88\n",
      "2025-01-01 car_insur 95.62\n",
      "2025-01-01 prop_tax_1 607.05\n",
      "2025-01-01 prop_tax_2 463.47\n",
      "2025-01-01 home_insur 96.61\n"
     ]
    }
   ],
   "source": [
    "for e in envelopes:\n",
    "    for cf in e.schedule:\n",
    "        if cf.date == datetime.date(2025, 1, 1):\n",
    "            print(cf.date, cf.bill_id, cf.amount)"
   ]
  },
  {
   "cell_type": "code",
   "execution_count": null,
   "metadata": {},
   "outputs": [
    {
     "data": {
      "text/plain": [
       "30622.06"
      ]
     },
     "execution_count": 81,
     "metadata": {},
     "output_type": "execute_result"
    }
   ],
   "source": [
    "from collections import defaultdict\n",
    "\n",
    "date_totals = defaultdict(float)\n",
    "\n",
    "for e in envelopes:\n",
    "    for cf in e.schedule:\n",
    "        if cf.amount > 0:\n",
    "            date_totals[cf.date] += cf.amount\n",
    "\n",
    "sum([total for date, total in date_totals.items()])\n",
    "    # print(date, total)"
   ]
  },
  {
   "cell_type": "code",
   "execution_count": null,
   "metadata": {},
   "outputs": [],
   "source": []
  }
 ],
 "metadata": {
  "kernelspec": {
   "display_name": "sinkingfund-PK5ArdCJ-py3.12",
   "language": "python",
   "name": "python3"
  },
  "language_info": {
   "codemirror_mode": {
    "name": "ipython",
    "version": 3
   },
   "file_extension": ".py",
   "mimetype": "text/x-python",
   "name": "python",
   "nbconvert_exporter": "python",
   "pygments_lexer": "ipython3",
   "version": "3.12.1"
  }
 },
 "nbformat": 4,
 "nbformat_minor": 2
}
