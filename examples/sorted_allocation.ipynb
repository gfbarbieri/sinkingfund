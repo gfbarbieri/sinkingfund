{
 "cells": [
  {
   "cell_type": "markdown",
   "metadata": {},
   "source": [
    "# Example: Sorted Allocation of Balance\n",
    "\n",
    "## Introduction\n",
    "\n",
    "This notebook demonstrates how to allocate an existing balance across multiple financial obligations in a sinking fund system.\n",
    "\n",
    "### Why Allocate Existing Balances?\n",
    "\n",
    "In real-world scenarios, you'll often start with an existing balance in your sinking fund rather than from zero. This happens in several common situations:\n",
    "\n",
    "1. **Transitioning from an unstructured to structured approach**: You may have been saving for future expenses without a formal system, and now want to organize those funds into specific envelopes.\n",
    "\n",
    "2. **Windfall allocation**: Perhaps you received a tax refund, bonus, or gift that you want to distribute across multiple future expenses.\n",
    "\n",
    "3. **Account consolidation**: You might be combining multiple savings accounts into a single sinking fund system.\n",
    "\n",
    "4. **Rebalancing existing allocations**: As financial priorities shift, you may need to reallocate your existing sinking fund balance to better align with your current needs.\n",
    "\n",
    "5. **Starting mid-way through a financial year**: Many expenses (like property taxes, insurance premiums) operate on annual cycles, and you may be implementing your sinking fund system in the middle of these cycles with partially saved amounts.\n",
    "\n",
    "### The Allocation Challenge\n",
    "\n",
    "When you have a lump sum to allocate across multiple future expenses, you need a systematic approach to determine which expenses should receive funding priority. The allocation strategies demonstrated in this notebook address this challenge by providing different methods to prioritize your expenses.\n",
    "\n",
    "Each strategy offers different advantages:\n",
    "\n",
    "- **Cascade (due-date priority)**: Ensures your most imminent expenses are fully funded first\n",
    "- **Debt Snowball (smallest-first)**: Gives the psychological win of completely funding smaller expenses \n",
    "- **Custom priority**: Allows you to implement your own allocation logic based on personal priorities\n",
    "\n",
    "Let's explore how these allocation strategies work with a real-world example."
   ]
  },
  {
   "cell_type": "markdown",
   "metadata": {},
   "source": [
    "## Imports"
   ]
  },
  {
   "cell_type": "code",
   "execution_count": 1,
   "metadata": {},
   "outputs": [],
   "source": [
    "########################################################################\n",
    "## FOR NOTEBOOKS ONLY: ADD THE PROJECT ROOT TO THE PYTHON PATH\n",
    "########################################################################\n",
    "\n",
    "import os\n",
    "import sys\n",
    "\n",
    "sys.path.insert(\n",
    "    0, os.path.abspath(os.path.join(os.getcwd(), '..'))\n",
    ")"
   ]
  },
  {
   "cell_type": "code",
   "execution_count": 2,
   "metadata": {},
   "outputs": [],
   "source": [
    "import datetime\n",
    "\n",
    "from sinkingfund.allocation.sorted import SortedAllocator\n",
    "from sinkingfund.models.bills import Bill\n",
    "from sinkingfund.models.envelope import Envelope"
   ]
  },
  {
   "cell_type": "markdown",
   "metadata": {},
   "source": [
    "## Create Envelopes for Bills\n",
    "\n",
    "In this example, lets create envelopes for three recurring bills (they don't have to be recurring, but it's a good example). We plan to contribute to these enveolves bi-weekly, so every 14 days.\n",
    "\n",
    "Car Insurnace:  \n",
    "* First due date (start date): 2026-04-24\n",
    "* Amount due: $800\n",
    "* Contribution interval: 14 days\n",
    "* Recurring: True\n",
    "* Frequency: Semi-annual\n",
    "\n",
    "Car Registration:  \n",
    "* First due date (start date): 2026-05-01\n",
    "* Amount due: $300\n",
    "* Contribution interval: 14 days\n",
    "* Recurring: True\n",
    "* Frequency: Annual\n",
    "\n",
    "Property Taxes:  \n",
    "* First due date (start date): 2026-11-01\n",
    "* Amount due: $5,000\n",
    "* Contribution interval: 14 days\n",
    "* Recurring: True\n",
    "* Frequency: Annual"
   ]
  },
  {
   "cell_type": "markdown",
   "metadata": {},
   "source": [
    "### Define the Bills"
   ]
  },
  {
   "cell_type": "code",
   "execution_count": 3,
   "metadata": {},
   "outputs": [
    {
     "name": "stdout",
     "output_type": "stream",
     "text": [
      "Bill(bill_id='car_insurance', service='Insurance', amount_due=800, recurring=True, due_date=None, start_date=datetime.date(2026, 4, 24), end_date=None, frequency='monthly', interval=6)\n"
     ]
    }
   ],
   "source": [
    "bills = [\n",
    "    {\n",
    "        'bill_id': 'car_insurance',\n",
    "        'service': 'Insurance',\n",
    "        'amount_due': 800,\n",
    "        'recurring': True,\n",
    "        'start_date': datetime.date(2026, 4, 24),\n",
    "        'frequency': 'monthly',\n",
    "        'interval': 6\n",
    "    },\n",
    "    {\n",
    "        'bill_id': 'car_registration',\n",
    "        'service': 'Registration',\n",
    "        'amount_due': 300,\n",
    "        'recurring': True,\n",
    "        'start_date': datetime.date(2026, 5, 1),\n",
    "        'frequency': 'annual',\n",
    "    },\n",
    "    {\n",
    "        'bill_id': 'property_taxes',\n",
    "        'service': 'Taxes',\n",
    "        'amount_due': 5000,\n",
    "        'recurring': True,\n",
    "        'start_date': datetime.date(2026, 11, 1),\n",
    "        'frequency': 'annual',\n",
    "        'interval': 1\n",
    "    }\n",
    "]\n",
    "\n",
    "bills = [Bill(**b) for b in bills]\n",
    "\n",
    "print(bills[0])"
   ]
  },
  {
   "cell_type": "markdown",
   "metadata": {},
   "source": [
    "### Create Envelopes\n",
    "\n",
    "We will use an interval of 14 days for the contribution schedule. This suggests that you get paid every 14 days, as you would likely want to line up your sinking fund contributions with your pay schedule."
   ]
  },
  {
   "cell_type": "code",
   "execution_count": 4,
   "metadata": {},
   "outputs": [
    {
     "name": "stdout",
     "output_type": "stream",
     "text": [
      "Envelope(bill=Bill(bill_id='car_insurance', service='Insurance', amount_due=800, recurring=True, due_date=None, start_date=datetime.date(2026, 4, 24), end_date=None, frequency='monthly', interval=6), remaining=None, allocated=None, interval=14, schedule=None)\n"
     ]
    }
   ],
   "source": [
    "envelopes = [Envelope(bill=b, interval=14) for b in bills]\n",
    "\n",
    "print(envelopes[0])"
   ]
  },
  {
   "cell_type": "markdown",
   "metadata": {},
   "source": [
    "## Allocate Existing Balance\n",
    "\n",
    "Say you have a current balance of $1,000 on 2026-01-01. Since this is a sinking fund, let's assume any balance in the account is dedicated to paying off the bills. Simply change the balance if you want to change that assumption.\n",
    "\n",
    "This is the basis for choosing an allocation strategy: We need to select a method for allocating the existing balance to the bills. In this notebook, we will explore a *sorted* allocation strategy, where we choose a feature of our bills on which we sort the bills, and then allocate the balance to the bills in that order. The `SortedAllocator` class is used to allocate the balance to the bills in a sorted order and generally it accepts any callable that returns a sort key for a bill."
   ]
  },
  {
   "cell_type": "markdown",
   "metadata": {},
   "source": [
    "### Starting Balance"
   ]
  },
  {
   "cell_type": "code",
   "execution_count": 5,
   "metadata": {},
   "outputs": [],
   "source": [
    "start_date = datetime.date(2026, 1, 1)\n",
    "balance = 1000"
   ]
  },
  {
   "cell_type": "markdown",
   "metadata": {},
   "source": [
    "### Cascading Allocation\n",
    "\n",
    "Cascading allocation or \"waterfall\" allocation ensures your most imminent expenses are fully funded first. This is probably the most common allocation strategy."
   ]
  },
  {
   "cell_type": "code",
   "execution_count": 6,
   "metadata": {},
   "outputs": [],
   "source": [
    "allocator = SortedAllocator(sort_key='cascade')\n",
    "allocator.allocate(envelopes=envelopes, balance=balance, curr_date=start_date)"
   ]
  },
  {
   "cell_type": "markdown",
   "metadata": {},
   "source": [
    "Let's see what happened. First, verify that the total amount allocated to the bills equals the starting balance. As we can see, `True` is returned, meaning the total allocated is equal to the starting balance."
   ]
  },
  {
   "cell_type": "code",
   "execution_count": 7,
   "metadata": {},
   "outputs": [
    {
     "name": "stdout",
     "output_type": "stream",
     "text": [
      "True\n"
     ]
    }
   ],
   "source": [
    "print(sum([e.allocated for e in envelopes if e.allocated is not None]) == balance)"
   ]
  },
  {
   "cell_type": "markdown",
   "metadata": {},
   "source": [
    "Now, we can look at that `allocated` and `remaining` amounts for each envelope. Since the car insurance is due in 2 months, it received the bulk of the allocation and is fully funded. The car registration, which is due in 5 months, received what was left after funding the car insurance, and property taxes, which are due in 8 months, received none."
   ]
  },
  {
   "cell_type": "code",
   "execution_count": 8,
   "metadata": {},
   "outputs": [
    {
     "name": "stdout",
     "output_type": "stream",
     "text": [
      "\n",
      "    Bill: car_insurance\n",
      "    Amount Due: 800\n",
      "    Allocated: 800\n",
      "    Remaining: 0\n",
      "    \n",
      "\n",
      "    Bill: car_registration\n",
      "    Amount Due: 300\n",
      "    Allocated: 200\n",
      "    Remaining: 100\n",
      "    \n",
      "\n",
      "    Bill: property_taxes\n",
      "    Amount Due: 5000\n",
      "    Allocated: 0\n",
      "    Remaining: 5000\n",
      "    \n"
     ]
    }
   ],
   "source": [
    "for e in envelopes:\n",
    "    print(\n",
    "    f\"\"\"\n",
    "    Bill: {e.bill.bill_id}\n",
    "    Amount Due: {e.bill.amount_due}\n",
    "    Allocated: {e.allocated}\n",
    "    Remaining: {e.remaining}\n",
    "    \"\"\"\n",
    "   )"
   ]
  },
  {
   "cell_type": "markdown",
   "metadata": {},
   "source": [
    "### Debt Snowball Allocation\n",
    "\n",
    "Debt Snowball allocation is a strategy that gives the psychological win of completely funding smaller expenses first. It sorts the bills by amount due, and allocates the balance to the smallest bills first."
   ]
  },
  {
   "cell_type": "code",
   "execution_count": 9,
   "metadata": {},
   "outputs": [],
   "source": [
    "allocator = SortedAllocator(sort_key='debt_snowball')\n",
    "allocator.allocate(envelopes=envelopes, balance=balance, curr_date=start_date)"
   ]
  },
  {
   "cell_type": "markdown",
   "metadata": {},
   "source": [
    "Verify that the total amount allocated to the bills equals the starting balance."
   ]
  },
  {
   "cell_type": "code",
   "execution_count": 10,
   "metadata": {},
   "outputs": [
    {
     "name": "stdout",
     "output_type": "stream",
     "text": [
      "True\n"
     ]
    }
   ],
   "source": [
    "print(sum([e.allocated for e in envelopes if e.allocated is not None]) == balance)"
   ]
  },
  {
   "cell_type": "markdown",
   "metadata": {},
   "source": [
    "Now, let's see the `allocated` and `remaining` amounts for each envelope. In this case, the car registration, while due in 5 months, is the smallest bill amount, so it received the bulk of the allocation and is fully funded. The car insurance, which is due in 2 months, received what was left after funding the car registration, and property taxes, which are due in 8 months, received none."
   ]
  },
  {
   "cell_type": "code",
   "execution_count": 11,
   "metadata": {},
   "outputs": [
    {
     "name": "stdout",
     "output_type": "stream",
     "text": [
      "\n",
      "    Bill: car_insurance\n",
      "    Amount Due: 800\n",
      "    Allocated: 700\n",
      "    Remaining: 100\n",
      "    \n",
      "\n",
      "    Bill: car_registration\n",
      "    Amount Due: 300\n",
      "    Allocated: 300\n",
      "    Remaining: 0\n",
      "    \n",
      "\n",
      "    Bill: property_taxes\n",
      "    Amount Due: 5000\n",
      "    Allocated: 0\n",
      "    Remaining: 5000\n",
      "    \n"
     ]
    }
   ],
   "source": [
    "for e in envelopes:\n",
    "    print(\n",
    "    f\"\"\"\n",
    "    Bill: {e.bill.bill_id}\n",
    "    Amount Due: {e.bill.amount_due}\n",
    "    Allocated: {e.allocated}\n",
    "    Remaining: {e.remaining}\n",
    "    \"\"\"\n",
    "   )"
   ]
  },
  {
   "cell_type": "markdown",
   "metadata": {},
   "source": [
    "### Custom Sorting\n",
    "\n",
    "Below we show an advanced example of a custom sorting strategy. We sort the bills by the priority of the service type. The structure of this function is defined by the `SortKey` protocol in the `sorted.py` file. As long as the function adheres to the protocol, it will work with the `SortedAllocator` class.\n",
    "\n",
    "In this case, we define a dictionary of priorities for the bill IDs, effecitvely overriding the default sorting and manually sorting the bills by the priority. Not all bills needs to be provided as the default priority is set if a bill is not found in the priorities dictionary.\n",
    "\n",
    "You might be wondering what are the order of the priorities? High -> low, or low-high? It really doesn't matter as the sorting can be done in either ascending or descending order. The `SortedAllocator` will reverse the order of the bills if the `reverse` flag is set to `True`. So, the choice of order is really up to you."
   ]
  },
  {
   "cell_type": "code",
   "execution_count": 14,
   "metadata": {},
   "outputs": [],
   "source": [
    "def priority_sort(bill: 'BillInstance', priorities: dict[str, int]) -> int:\n",
    "    \"\"\"\n",
    "    Sort the bills by the priority of the service type.\n",
    "\n",
    "    Parameters\n",
    "    ----------\n",
    "    bill: BillInstance\n",
    "        The bill to sort.\n",
    "    priorities: dict[str, int]\n",
    "        The priorities of the service types.\n",
    "\n",
    "    Returns\n",
    "    -------\n",
    "    int\n",
    "        The priority of the service type.\n",
    "    \"\"\"\n",
    "\n",
    "    # Iterate over the priorities and return the priority of the bill.\n",
    "    for service, priority in priorities.items():\n",
    "\n",
    "        # If the service type is in the bill, return the priority.\n",
    "        if bill.bill_id.lower() == service.lower():\n",
    "            return priority\n",
    "\n",
    "    # Default low priority.\n",
    "    return 99"
   ]
  },
  {
   "cell_type": "code",
   "execution_count": 15,
   "metadata": {},
   "outputs": [],
   "source": [
    "# Initialize the allocator with the priority sort function and allocate\n",
    "# the balance to the envelopes.\n",
    "allocator = SortedAllocator(sort_key=priority_sort)\n",
    "\n",
    "allocator.allocate(\n",
    "    envelopes=envelopes, balance=balance, curr_date=start_date,\n",
    "    priorities={'car_insurance': 1, 'car_registration': 2, 'property_taxes': 3}\n",
    ")"
   ]
  },
  {
   "cell_type": "markdown",
   "metadata": {},
   "source": [
    "Verify that the total amount allocated to the bills equals the starting balance."
   ]
  },
  {
   "cell_type": "code",
   "execution_count": 16,
   "metadata": {},
   "outputs": [
    {
     "name": "stdout",
     "output_type": "stream",
     "text": [
      "True\n"
     ]
    }
   ],
   "source": [
    "print(sum([e.allocated for e in envelopes if e.allocated is not None]) == balance)"
   ]
  },
  {
   "cell_type": "markdown",
   "metadata": {},
   "source": [
    "In this case, the car insurance is funded first, then car registration, then property taxes."
   ]
  },
  {
   "cell_type": "code",
   "execution_count": 17,
   "metadata": {},
   "outputs": [
    {
     "name": "stdout",
     "output_type": "stream",
     "text": [
      "\n",
      "    Bill: car_insurance\n",
      "    Amount Due: 800\n",
      "    Allocated: 800\n",
      "    Remaining: 0\n",
      "    \n",
      "\n",
      "    Bill: car_registration\n",
      "    Amount Due: 300\n",
      "    Allocated: 200\n",
      "    Remaining: 100\n",
      "    \n",
      "\n",
      "    Bill: property_taxes\n",
      "    Amount Due: 5000\n",
      "    Allocated: 0\n",
      "    Remaining: 5000\n",
      "    \n"
     ]
    }
   ],
   "source": [
    "for e in envelopes:\n",
    "    print(\n",
    "    f\"\"\"\n",
    "    Bill: {e.bill.bill_id}\n",
    "    Amount Due: {e.bill.amount_due}\n",
    "    Allocated: {e.allocated}\n",
    "    Remaining: {e.remaining}\n",
    "    \"\"\"\n",
    "   )"
   ]
  },
  {
   "cell_type": "markdown",
   "metadata": {},
   "source": [
    "However, let's reverse the order of the priorities and see what happens. Now, property taxes is funded first, then car registration, then car insurance. Given the current balance, the outcome is that property taxes is funded partially with the entire balance, and the remaining bills receive no allocation."
   ]
  },
  {
   "cell_type": "code",
   "execution_count": 18,
   "metadata": {},
   "outputs": [
    {
     "name": "stdout",
     "output_type": "stream",
     "text": [
      "\n",
      "    Bill: car_insurance\n",
      "    Amount Due: 800\n",
      "    Allocated: 0\n",
      "    Remaining: 800\n",
      "    \n",
      "\n",
      "    Bill: car_registration\n",
      "    Amount Due: 300\n",
      "    Allocated: 0\n",
      "    Remaining: 300\n",
      "    \n",
      "\n",
      "    Bill: property_taxes\n",
      "    Amount Due: 5000\n",
      "    Allocated: 1000\n",
      "    Remaining: 4000\n",
      "    \n"
     ]
    }
   ],
   "source": [
    "# Initialize the allocator with the priority sort function and allocate\n",
    "# the balance to the envelopes.\n",
    "allocator = SortedAllocator(sort_key=priority_sort, reverse=True)\n",
    "\n",
    "allocator.allocate(\n",
    "    envelopes=envelopes, balance=balance, curr_date=start_date,\n",
    "    priorities={'car_insurance': 1, 'car_registration': 2, 'property_taxes': 3}\n",
    ")\n",
    "\n",
    "for e in envelopes:\n",
    "    print(\n",
    "    f\"\"\"\n",
    "    Bill: {e.bill.bill_id}\n",
    "    Amount Due: {e.bill.amount_due}\n",
    "    Allocated: {e.allocated}\n",
    "    Remaining: {e.remaining}\n",
    "    \"\"\"\n",
    "   )"
   ]
  }
 ],
 "metadata": {
  "kernelspec": {
   "display_name": "sinkingfund-r7ePPuil-py3.12",
   "language": "python",
   "name": "python3"
  },
  "language_info": {
   "codemirror_mode": {
    "name": "ipython",
    "version": 3
   },
   "file_extension": ".py",
   "mimetype": "text/x-python",
   "name": "python",
   "nbconvert_exporter": "python",
   "pygments_lexer": "ipython3",
   "version": "3.12.1"
  }
 },
 "nbformat": 4,
 "nbformat_minor": 2
}
