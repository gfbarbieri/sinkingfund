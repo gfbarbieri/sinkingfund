{
 "cells": [
  {
   "cell_type": "markdown",
   "metadata": {},
   "source": [
    "# Loading Bills as Envelopes\n",
    "\n",
    "This notebook demonstrates how to load bills from a CSV file and create envelope objects for a sinking fund system. In personal finance, a sinking fund is a strategic way to save for anticipated expenses by setting aside regular contributions. The envelope system organizes these contributions into specific categories or \"envelopes.\"\n",
    "\n",
    "When setting up a sinking fund system, you'll typically start by identifying your future expenses and their details (amount, due date, recurrence pattern). Rather than manually creating these data structures, the loader utility provides a convenient way to import this information from a spreadsheet.\n",
    "\n",
    "The key assumptions in this process:\n",
    "- All bills are loaded with the same contribution interval.\n",
    "- The CSV file contains all necessary fields (bill_id, service, amount_due, etc.).\n",
    "- Recurring bills have start_date, frequency, and interval defined.\n",
    "- One-time bills have due_date defined."
   ]
  },
  {
   "cell_type": "markdown",
   "metadata": {},
   "source": [
    "## Imports"
   ]
  },
  {
   "cell_type": "code",
   "execution_count": 1,
   "metadata": {},
   "outputs": [],
   "source": [
    "########################################################################\n",
    "## FOR NOTEBOOKS ONLY: ADD THE PROJECT ROOT TO THE PYTHON PATH\n",
    "########################################################################\n",
    "\n",
    "import os\n",
    "import sys\n",
    "\n",
    "sys.path.insert(\n",
    "    0, os.path.abspath(os.path.join(os.getcwd(), '..'))\n",
    ")\n",
    "\n",
    "# Imports.\n",
    "from sinkingfund.utils.loader import load_envelopes_from_csv"
   ]
  },
  {
   "cell_type": "markdown",
   "metadata": {},
   "source": [
    "## Loading Envelopes from CSV\n",
    "\n",
    "The `load_envelopes_from_csv` function handles the conversion from CSV data to envelope objects. It takes two primary parameters:\n",
    "- `path`: The file path to the CSV containing your bill information.\n",
    "- `contrib_intervals`: How frequently you want to contribute to each bill (in days).\n",
    "\n",
    "This creates a collection of envelope objects, each containing a bill and configured with the specified contribution interval. For bi-weekly contributions, we set the interval to 14 days."
   ]
  },
  {
   "cell_type": "code",
   "execution_count": 2,
   "metadata": {},
   "outputs": [
    {
     "data": {
      "text/plain": [
       "[Envelope(bill=Bill(bill_id='car_insur_1', service='Car Insurance', amount_due=774.76, recurring=False, due_date=datetime.date(2025, 4, 24), start_date=None, end_date=None, frequency=None, interval=None), remaining=None, allocated=None, interval=14, schedule=None),\n",
       " Envelope(bill=Bill(bill_id='suburu_reg', service='Car Registraion', amount_due=191.0, recurring=True, due_date=None, start_date=datetime.date(2025, 5, 12), end_date=None, frequency='Annual', interval=1), remaining=None, allocated=None, interval=14, schedule=None),\n",
       " Envelope(bill=Bill(bill_id='honda_reg', service='Car Registraion', amount_due=334.0, recurring=True, due_date=None, start_date=datetime.date(2025, 5, 18), end_date=None, frequency='Annual', interval=1), remaining=None, allocated=None, interval=14, schedule=None),\n",
       " Envelope(bill=Bill(bill_id='prop_tax_supl_2024', service='Property Taxes', amount_due=11520.23, recurring=False, due_date=datetime.date(2025, 7, 31), start_date=None, end_date=None, frequency=None, interval=None), remaining=None, allocated=None, interval=14, schedule=None),\n",
       " Envelope(bill=Bill(bill_id='car_insur', service='Car Insurance', amount_due=774.76, recurring=True, due_date=None, start_date=datetime.date(2025, 10, 24), end_date=None, frequency='Monthly', interval=6), remaining=None, allocated=None, interval=14, schedule=None),\n",
       " Envelope(bill=Bill(bill_id='prop_tax_1', service='Property Taxes', amount_due=13161.15, recurring=True, due_date=None, start_date=datetime.date(2025, 11, 1), end_date=None, frequency='Annual', interval=1), remaining=None, allocated=None, interval=14, schedule=None),\n",
       " Envelope(bill=Bill(bill_id='prop_tax_2', service='Property Taxes', amount_due=13161.15, recurring=True, due_date=None, start_date=datetime.date(2026, 2, 1), end_date=None, frequency='Annual', interval=1), remaining=None, allocated=None, interval=14, schedule=None),\n",
       " Envelope(bill=Bill(bill_id='home_insur', service='Home Insurance', amount_due=3000.0, recurring=True, due_date=None, start_date=datetime.date(2026, 3, 4), end_date=None, frequency='Annual', interval=1), remaining=None, allocated=None, interval=14, schedule=None)]"
      ]
     },
     "execution_count": 2,
     "metadata": {},
     "output_type": "execute_result"
    }
   ],
   "source": [
    "path = 'data/schwab_fund.csv'\n",
    "interval = 14\n",
    "\n",
    "envelopes = load_envelopes_from_csv(path=path, contrib_intervals=interval)\n",
    "envelopes"
   ]
  },
  {
   "cell_type": "markdown",
   "metadata": {},
   "source": [
    "## Understanding the Data Structure\n",
    "\n",
    "Let's examine the resulting data structure to understand what we're working with.\n",
    "\n",
    "The envelope objects serve as containers that link bills to their funding strategy. Each envelope contains:\n",
    "- A bill object with all its details (amount, dates, recurrence pattern).\n",
    "- A contribution interval that defines how frequently funds will be added.\n",
    "- Properties for tracking allocated funds and remaining amounts needed.\n",
    "- A schedule property (empty until we apply a scheduler).\n",
    "\n",
    "These envelope objects become the foundation for allocation strategies and contribution schedules in the sinking fund system."
   ]
  },
  {
   "cell_type": "code",
   "execution_count": 3,
   "metadata": {},
   "outputs": [
    {
     "name": "stdout",
     "output_type": "stream",
     "text": [
      "Envelope for: Car Insurance\n",
      "Bill amount: $774.76\n",
      "Contribution interval: 14 days\n"
     ]
    }
   ],
   "source": [
    "# Look at the first envelope object.\n",
    "first_envelope = envelopes[0]\n",
    "print(f\"Envelope for: {first_envelope.bill.service}\")\n",
    "print(f\"Bill amount: ${first_envelope.bill.amount_due}\")\n",
    "print(f\"Contribution interval: {first_envelope.interval} days\")"
   ]
  },
  {
   "cell_type": "code",
   "execution_count": 4,
   "metadata": {},
   "outputs": [
    {
     "name": "stdout",
     "output_type": "stream",
     "text": [
      "\n",
      "Recurring bill example:\n",
      "Service: Car Registraion\n",
      "Start date: 2025-05-12\n",
      "Frequency: Annual\n",
      "\n",
      "One-time bill example:\n",
      "Service: Car Insurance\n",
      "Due date: 2025-04-24\n"
     ]
    }
   ],
   "source": [
    "# Check the types of recurring and one-time bills.\n",
    "recurring_bill = envelopes[1].bill\n",
    "one_time_bill = envelopes[0].bill\n",
    "\n",
    "print(\"\\nRecurring bill example:\")\n",
    "print(f\"Service: {recurring_bill.service}\")\n",
    "print(f\"Start date: {recurring_bill.start_date}\")\n",
    "print(f\"Frequency: {recurring_bill.frequency}\")\n",
    "\n",
    "print(\"\\nOne-time bill example:\")\n",
    "print(f\"Service: {one_time_bill.service}\")\n",
    "print(f\"Due date: {one_time_bill.due_date}\")"
   ]
  }
 ],
 "metadata": {
  "kernelspec": {
   "display_name": "returns-to-scale-0x8FbXyN-py3.12",
   "language": "python",
   "name": "python3"
  },
  "language_info": {
   "codemirror_mode": {
    "name": "ipython",
    "version": 3
   },
   "file_extension": ".py",
   "mimetype": "text/x-python",
   "name": "python",
   "nbconvert_exporter": "python",
   "pygments_lexer": "ipython3",
   "version": "3.12.1"
  }
 },
 "nbformat": 4,
 "nbformat_minor": 2
}
