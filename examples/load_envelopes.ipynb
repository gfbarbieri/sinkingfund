{
 "cells": [
  {
   "cell_type": "markdown",
   "metadata": {},
   "source": [
    "# Example: Load Bills as Envelopes"
   ]
  },
  {
   "cell_type": "markdown",
   "metadata": {},
   "source": [
    "## Imports"
   ]
  },
  {
   "cell_type": "code",
   "execution_count": 1,
   "metadata": {},
   "outputs": [],
   "source": [
    "########################################################################\n",
    "## FOR NOTEBOOKS ONLY: ADD THE PROJECT ROOT TO THE PYTHON PATH\n",
    "########################################################################\n",
    "\n",
    "import os\n",
    "import sys\n",
    "\n",
    "sys.path.insert(\n",
    "    0, os.path.abspath(os.path.join(os.getcwd(), '..'))\n",
    ")"
   ]
  },
  {
   "cell_type": "code",
   "execution_count": 2,
   "metadata": {},
   "outputs": [],
   "source": [
    "from sinkingfund.utils.loader import load_envelopes_from_csv"
   ]
  },
  {
   "cell_type": "markdown",
   "metadata": {},
   "source": [
    "## Load Envelopes"
   ]
  },
  {
   "cell_type": "markdown",
   "metadata": {},
   "source": [
    "Decide file path and contribution interval. The contribution interval is the number of days between contribution to the envelope. When loading from CSV, all envelopes are assigned the same interval."
   ]
  },
  {
   "cell_type": "code",
   "execution_count": 3,
   "metadata": {},
   "outputs": [
    {
     "data": {
      "text/plain": [
       "[Envelope(bill=Bill(bill_id='car_insur_1', service='Car Insurance (FI)', amount_due=774.76, recurring=False, due_date=datetime.date(2025, 4, 24), start_date=None, end_date=None, frequency=None, interval=None), remaining=None, allocated=None, interval=14, schedule=None),\n",
       " Envelope(bill=Bill(bill_id='suburu_reg', service='Car Registraion', amount_due=191.0, recurring=True, due_date=None, start_date=datetime.date(2025, 5, 12), end_date=None, frequency='Annual', interval=1), remaining=None, allocated=None, interval=14, schedule=None),\n",
       " Envelope(bill=Bill(bill_id='honda_reg', service='Car Registraion', amount_due=334.0, recurring=True, due_date=None, start_date=datetime.date(2025, 5, 18), end_date=None, frequency='Annual', interval=1), remaining=None, allocated=None, interval=14, schedule=None),\n",
       " Envelope(bill=Bill(bill_id='prop_tax_supl_2024', service='Property Taxes (SI)', amount_due=11520.23, recurring=False, due_date=datetime.date(2025, 7, 31), start_date=None, end_date=None, frequency=None, interval=None), remaining=None, allocated=None, interval=14, schedule=None),\n",
       " Envelope(bill=Bill(bill_id='car_insur', service='Car Insurance', amount_due=774.76, recurring=True, due_date=None, start_date=datetime.date(2025, 10, 24), end_date=None, frequency='Monthly', interval=6), remaining=None, allocated=None, interval=14, schedule=None),\n",
       " Envelope(bill=Bill(bill_id='prop_tax_1', service='Property Taxes (FI)', amount_due=13161.15, recurring=True, due_date=None, start_date=datetime.date(2025, 11, 1), end_date=None, frequency='Annual', interval=1), remaining=None, allocated=None, interval=14, schedule=None),\n",
       " Envelope(bill=Bill(bill_id='prop_tax_2', service='Property Taxes (SI)', amount_due=13161.15, recurring=True, due_date=None, start_date=datetime.date(2026, 2, 1), end_date=None, frequency='Annual', interval=1), remaining=None, allocated=None, interval=14, schedule=None),\n",
       " Envelope(bill=Bill(bill_id='home_insur', service='Home Insurance', amount_due=3000.0, recurring=True, due_date=None, start_date=datetime.date(2026, 3, 4), end_date=None, frequency='Annual', interval=1), remaining=None, allocated=None, interval=14, schedule=None)]"
      ]
     },
     "execution_count": 3,
     "metadata": {},
     "output_type": "execute_result"
    }
   ],
   "source": [
    "path = 'data/schwab_fund.csv'\n",
    "interval = 14\n",
    "\n",
    "envelopes = load_envelopes_from_csv(path=path, contrib_intervals=interval)\n",
    "envelopes"
   ]
  }
 ],
 "metadata": {
  "kernelspec": {
   "display_name": "returns-to-scale-0x8FbXyN-py3.12",
   "language": "python",
   "name": "python3"
  },
  "language_info": {
   "codemirror_mode": {
    "name": "ipython",
    "version": 3
   },
   "file_extension": ".py",
   "mimetype": "text/x-python",
   "name": "python",
   "nbconvert_exporter": "python",
   "pygments_lexer": "ipython3",
   "version": "3.12.1"
  }
 },
 "nbformat": 4,
 "nbformat_minor": 2
}
