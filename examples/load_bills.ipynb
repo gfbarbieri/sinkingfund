{
 "cells": [
  {
   "cell_type": "markdown",
   "metadata": {},
   "source": [
    "# Example: Load Bills"
   ]
  },
  {
   "cell_type": "markdown",
   "metadata": {},
   "source": [
    "## Imports"
   ]
  },
  {
   "cell_type": "code",
   "execution_count": 1,
   "metadata": {},
   "outputs": [],
   "source": [
    "########################################################################\n",
    "## FOR NOTEBOOKS ONLY: ADD THE PROJECT ROOT TO THE PYTHON PATH\n",
    "########################################################################\n",
    "\n",
    "import os\n",
    "import sys\n",
    "\n",
    "sys.path.insert(\n",
    "    0, os.path.abspath(os.path.join(os.getcwd(), '..'))\n",
    ")"
   ]
  },
  {
   "cell_type": "code",
   "execution_count": 8,
   "metadata": {},
   "outputs": [],
   "source": [
    "import datetime\n",
    "\n",
    "from sinkingfund.utils.loader import load_bills_from_csv"
   ]
  },
  {
   "cell_type": "markdown",
   "metadata": {},
   "source": [
    "## Load Envelopes"
   ]
  },
  {
   "cell_type": "code",
   "execution_count": 9,
   "metadata": {},
   "outputs": [
    {
     "data": {
      "text/plain": [
       "[Bill(bill_id='car_insur_1', service='Car Insurance (FI)', amount_due=774.76, recurring=False, due_date=datetime.date(2025, 4, 24), start_date=None, end_date=None, frequency=None, interval=None),\n",
       " Bill(bill_id='suburu_reg', service='Car Registraion', amount_due=191.0, recurring=True, due_date=None, start_date=datetime.date(2025, 5, 12), end_date=None, frequency='Annual', interval=1),\n",
       " Bill(bill_id='honda_reg', service='Car Registraion', amount_due=334.0, recurring=True, due_date=None, start_date=datetime.date(2025, 5, 18), end_date=None, frequency='Annual', interval=1),\n",
       " Bill(bill_id='prop_tax_supl_2024', service='Property Taxes (SI)', amount_due=11520.23, recurring=False, due_date=datetime.date(2025, 7, 31), start_date=None, end_date=None, frequency=None, interval=None),\n",
       " Bill(bill_id='car_insur', service='Car Insurance', amount_due=774.76, recurring=True, due_date=None, start_date=datetime.date(2025, 10, 24), end_date=None, frequency='Monthly', interval=6),\n",
       " Bill(bill_id='prop_tax_1', service='Property Taxes (FI)', amount_due=13161.15, recurring=True, due_date=None, start_date=datetime.date(2025, 11, 1), end_date=None, frequency='Annual', interval=1),\n",
       " Bill(bill_id='prop_tax_2', service='Property Taxes (SI)', amount_due=13161.15, recurring=True, due_date=None, start_date=datetime.date(2026, 2, 1), end_date=None, frequency='Annual', interval=1),\n",
       " Bill(bill_id='home_insur', service='Home Insurance', amount_due=3000.0, recurring=True, due_date=None, start_date=datetime.date(2026, 3, 4), end_date=None, frequency='Annual', interval=1)]"
      ]
     },
     "execution_count": 9,
     "metadata": {},
     "output_type": "execute_result"
    }
   ],
   "source": [
    "path = 'data/schwab_fund.csv'\n",
    "\n",
    "bills = load_bills_from_csv(path=path)\n",
    "bills"
   ]
  },
  {
   "cell_type": "markdown",
   "metadata": {},
   "source": [
    "## Get Next Bill Dates"
   ]
  },
  {
   "cell_type": "code",
   "execution_count": 16,
   "metadata": {},
   "outputs": [
    {
     "data": {
      "text/plain": [
       "[datetime.date(2025, 4, 24),\n",
       " datetime.date(2025, 5, 12),\n",
       " datetime.date(2025, 5, 18),\n",
       " datetime.date(2025, 7, 31),\n",
       " datetime.date(2025, 10, 24),\n",
       " datetime.date(2025, 11, 1),\n",
       " datetime.date(2026, 2, 1),\n",
       " datetime.date(2026, 3, 4)]"
      ]
     },
     "execution_count": 16,
     "metadata": {},
     "output_type": "execute_result"
    }
   ],
   "source": [
    "date = datetime.date(2025, 1, 1)\n",
    "\n",
    "[bill.next_instance(reference_date=date).due_date for bill in bills]"
   ]
  },
  {
   "cell_type": "markdown",
   "metadata": {},
   "source": [
    "## Sum Total Amount Due"
   ]
  },
  {
   "cell_type": "code",
   "execution_count": 18,
   "metadata": {},
   "outputs": [
    {
     "data": {
      "text/plain": [
       "42917.049999999996"
      ]
     },
     "execution_count": 18,
     "metadata": {},
     "output_type": "execute_result"
    }
   ],
   "source": [
    "sum([bill.next_instance(reference_date=date).amount_due for bill in bills])"
   ]
  }
 ],
 "metadata": {
  "kernelspec": {
   "display_name": "returns-to-scale-0x8FbXyN-py3.12",
   "language": "python",
   "name": "python3"
  },
  "language_info": {
   "codemirror_mode": {
    "name": "ipython",
    "version": 3
   },
   "file_extension": ".py",
   "mimetype": "text/x-python",
   "name": "python",
   "nbconvert_exporter": "python",
   "pygments_lexer": "ipython3",
   "version": "3.12.1"
  }
 },
 "nbformat": 4,
 "nbformat_minor": 2
}
