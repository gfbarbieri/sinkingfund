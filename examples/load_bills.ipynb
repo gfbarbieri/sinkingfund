{
 "cells": [
  {
   "cell_type": "markdown",
   "metadata": {},
   "source": [
    "# Loading and Analyzing Bills\n",
    "\n",
    "This notebook demonstrates how to load financial obligations from a CSV file into bill objects for a sinking fund system. Bills are the foundation of any sinking fund - they represent the future expenses you're planning for, whether one-time payments or recurring obligations.\n",
    "\n",
    "The loader utility makes it easy to import bill information from a spreadsheet instead of manually creating each bill object. This is particularly helpful when setting up a sinking fund with numerous expenses or when updating your financial plan.\n",
    "\n",
    "Key concepts to understand:\n",
    "- One-time bills have a specific due_date.\n",
    "- Recurring bills have a start_date, frequency, and interval.\n",
    "- Bills are independent of contribution strategies (which are handled by envelopes).\n",
    "- The bill model supports various recurrence patterns (daily, weekly, monthly, quarterly, annual)."
   ]
  },
  {
   "cell_type": "markdown",
   "metadata": {},
   "source": [
    "## Imports"
   ]
  },
  {
   "cell_type": "code",
   "execution_count": 1,
   "metadata": {},
   "outputs": [],
   "source": [
    "########################################################################\n",
    "## FOR NOTEBOOKS ONLY: ADD THE PROJECT ROOT TO THE PYTHON PATH\n",
    "########################################################################\n",
    "\n",
    "import os\n",
    "import sys\n",
    "\n",
    "sys.path.insert(\n",
    "    0, os.path.abspath(os.path.join(os.getcwd(), '..'))\n",
    ")\n",
    "\n",
    "# Imports.\n",
    "import datetime\n",
    "from sinkingfund.utils.loader import load_bills_from_csv"
   ]
  },
  {
   "cell_type": "markdown",
   "metadata": {},
   "source": [
    "## Loading Bills from CSV\n",
    "\n",
    "The `load_bills_from_csv` function reads bill information from a CSV file and returns a list of bill objects. It automatically parses dates, handles optional fields, and creates the appropriate bill type based on the recurring flag.\n",
    "\n",
    "This gives us a collection of bill objects representing our future financial obligations."
   ]
  },
  {
   "cell_type": "code",
   "execution_count": 2,
   "metadata": {},
   "outputs": [
    {
     "data": {
      "text/plain": [
       "[Bill(bill_id='car_insur_1', service='Car Insurance', amount_due=774.76, recurring=False, due_date=datetime.date(2025, 4, 24), start_date=None, end_date=None, frequency=None, interval=None)]"
      ]
     },
     "execution_count": 2,
     "metadata": {},
     "output_type": "execute_result"
    }
   ],
   "source": [
    "path = 'data/schwab_fund.csv'\n",
    "\n",
    "bills = load_bills_from_csv(path=path)\n",
    "bills[:1]"
   ]
  },
  {
   "cell_type": "markdown",
   "metadata": {},
   "source": [
    "## Working with Bill Objects\n",
    "\n",
    "Once loaded, the bill objects provide useful functionality for financial planning:\n",
    "\n",
    "The bill objects form the foundation of the sinking fund system. Each bill:\n",
    "- Has a unique identifier and service name.\n",
    "- Knows its amount due and due date(s).\n",
    "- Can determine when the next payment is due.\n",
    "- Supports both one-time and recurring expense patterns.\n",
    "\n",
    "Understanding these bill objects is essential before moving on to more advanced concepts like envelopes, allocation strategies, and contribution scheduling."
   ]
  },
  {
   "cell_type": "code",
   "execution_count": 3,
   "metadata": {},
   "outputs": [
    {
     "name": "stdout",
     "output_type": "stream",
     "text": [
      "[datetime.date(2025, 4, 24), datetime.date(2025, 5, 12), datetime.date(2025, 5, 18), datetime.date(2025, 7, 31), datetime.date(2025, 10, 24), datetime.date(2025, 11, 1), datetime.date(2026, 2, 1), datetime.date(2026, 3, 4)]\n"
     ]
    }
   ],
   "source": [
    "# Get the next due date for each bill.\n",
    "date = datetime.date(2025, 1, 1)\n",
    "next_due_dates = [bill.next_instance(reference_date=date).due_date for bill in bills]\n",
    "print(next_due_dates)"
   ]
  },
  {
   "cell_type": "code",
   "execution_count": 4,
   "metadata": {},
   "outputs": [
    {
     "name": "stdout",
     "output_type": "stream",
     "text": [
      "42917.049999999996\n"
     ]
    }
   ],
   "source": [
    "# Calculate total obligations.\n",
    "total_due = sum([bill.next_instance(reference_date=date).amount_due for bill in bills])\n",
    "print(total_due)"
   ]
  }
 ],
 "metadata": {
  "kernelspec": {
   "display_name": "returns-to-scale-0x8FbXyN-py3.12",
   "language": "python",
   "name": "python3"
  },
  "language_info": {
   "codemirror_mode": {
    "name": "ipython",
    "version": 3
   },
   "file_extension": ".py",
   "mimetype": "text/x-python",
   "name": "python",
   "nbconvert_exporter": "python",
   "pygments_lexer": "ipython3",
   "version": "3.12.1"
  }
 },
 "nbformat": 4,
 "nbformat_minor": 2
}
