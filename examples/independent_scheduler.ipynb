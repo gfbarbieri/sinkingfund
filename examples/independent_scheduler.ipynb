{
 "cells": [
  {
   "cell_type": "markdown",
   "metadata": {},
   "source": [
    "# Example: Independent Scehduler"
   ]
  },
  {
   "cell_type": "markdown",
   "metadata": {},
   "source": [
    "## Imports"
   ]
  },
  {
   "cell_type": "code",
   "execution_count": 3,
   "metadata": {},
   "outputs": [],
   "source": [
    "########################################################################\n",
    "## FOR NOTEBOOKS ONLY: ADD THE PROJECT ROOT TO THE PYTHON PATH\n",
    "########################################################################\n",
    "\n",
    "import os\n",
    "import sys\n",
    "\n",
    "sys.path.insert(\n",
    "    0, os.path.abspath(os.path.join(os.getcwd(), '..'))\n",
    ")"
   ]
  },
  {
   "cell_type": "code",
   "execution_count": 4,
   "metadata": {},
   "outputs": [],
   "source": [
    "import datetime\n",
    "\n",
    "from sinkingfund.allocation.sorted import SortedAllocator\n",
    "from sinkingfund.utils.loader import load_envelopes_from_csv"
   ]
  },
  {
   "cell_type": "markdown",
   "metadata": {},
   "source": [
    "## Load Bills"
   ]
  },
  {
   "cell_type": "code",
   "execution_count": 5,
   "metadata": {},
   "outputs": [],
   "source": [
    "path = 'data/schwab_fund.csv'\n",
    "interval = 14\n",
    "\n",
    "envelopes = load_envelopes_from_csv(path=path, contrib_intervals=interval)"
   ]
  },
  {
   "cell_type": "markdown",
   "metadata": {},
   "source": [
    "## Allocate Balance"
   ]
  },
  {
   "cell_type": "code",
   "execution_count": 6,
   "metadata": {},
   "outputs": [],
   "source": [
    "# The start date of the contribution schedule. The current balance must\n",
    "# match the balance at the start date. If there are unpaid bills in the\n",
    "# account, you manually need to remove their amounts from the balance.\n",
    "start_date = datetime.date(2025, 6, 1)\n",
    "balance = 15026.41"
   ]
  },
  {
   "cell_type": "markdown",
   "metadata": {},
   "source": [
    "### Cascading Allocation"
   ]
  },
  {
   "cell_type": "code",
   "execution_count": 7,
   "metadata": {},
   "outputs": [
    {
     "name": "stdout",
     "output_type": "stream",
     "text": [
      "True\n",
      "[('car_insur_1', 774.76, None, None), ('suburu_reg', 191.0, 0.0, 191.0), ('honda_reg', 334.0, 0.0, 334.0), ('prop_tax_supl_2024', 11520.23, 11520.23, 0.0), ('car_insur', 774.76, 774.76, 0.0), ('prop_tax_1', 13161.15, 2731.42, 10429.73), ('prop_tax_2', 13161.15, 0.0, 13161.15), ('home_insur', 3000.0, 0.0, 3000.0)]\n"
     ]
    }
   ],
   "source": [
    "# Initialize the allocator.\n",
    "allocator = SortedAllocator(sort_key='cascade')\n",
    "\n",
    "# Allocate the balance to the envelopes.\n",
    "allocator.allocate(envelopes=envelopes, balance=balance, curr_date=start_date)\n",
    "\n",
    "# Verify total allocated equals budget.\n",
    "print(sum([e.allocated for e in envelopes if e.allocated is not None]) == balance)\n",
    "print([(e.bill.bill_id, e.bill.amount_due, e.allocated, e.remaining) for e in envelopes])"
   ]
  },
  {
   "cell_type": "markdown",
   "metadata": {},
   "source": [
    "## Schedule Contributions"
   ]
  },
  {
   "cell_type": "code",
   "execution_count": 8,
   "metadata": {},
   "outputs": [
    {
     "name": "stdout",
     "output_type": "stream",
     "text": [
      "suburu_reg True 191.0 191.0\n",
      "suburu_reg True 191.0 191.0\n",
      "honda_reg True 334.0 334.0\n",
      "honda_reg True 334.0 334.0\n",
      "prop_tax_supl_2024 True 0 0.0\n",
      "prop_tax_supl_2024 True 0 0.0\n",
      "car_insur True 0 0.0\n",
      "car_insur True 0 0.0\n",
      "prop_tax_1 True 10429.73 10429.73\n",
      "prop_tax_1 True 10429.73 10429.73\n",
      "prop_tax_2 False 13161.150000000001 13161.15\n",
      "prop_tax_2 False 13161.150000000001 13161.15\n",
      "home_insur True 3000.0 3000.0\n",
      "home_insur True 3000.0 3000.0\n"
     ]
    }
   ],
   "source": [
    "# Initialize the scheduler.\n",
    "scheduler = IndependentScheduler()\n",
    "\n",
    "# Schedule the contributions.\n",
    "scheduler.schedule(envelopes=envelopes, start_date=start_date)\n",
    "\n",
    "# Verify (1) that the total contributions equal to the amount remaining;\n",
    "# (2) that the total contributions plus the initial allocation equals\n",
    "# the amount due.\n",
    "for e in envelopes:\n",
    "    \n",
    "    if e.schedule is None:\n",
    "        continue\n",
    "\n",
    "    contrib = sum(cf.amount for cf in e.schedule if cf.amount > 0)\n",
    "    print(e.bill.bill_id, contrib == e.remaining, contrib, e.remaining)\n",
    "    print(e.bill.bill_id, contrib + e.allocated == e.bill.amount_due, contrib, e.remaining)"
   ]
  }
 ],
 "metadata": {
  "kernelspec": {
   "display_name": "returns-to-scale-0x8FbXyN-py3.12",
   "language": "python",
   "name": "python3"
  },
  "language_info": {
   "codemirror_mode": {
    "name": "ipython",
    "version": 3
   },
   "file_extension": ".py",
   "mimetype": "text/x-python",
   "name": "python",
   "nbconvert_exporter": "python",
   "pygments_lexer": "ipython3",
   "version": "3.12.1"
  }
 },
 "nbformat": 4,
 "nbformat_minor": 2
}
