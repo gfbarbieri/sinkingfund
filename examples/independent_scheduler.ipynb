{
 "cells": [
  {
   "cell_type": "markdown",
   "metadata": {},
   "source": [
    "# Independent Scheduler Example\n",
    "\n",
    "This notebook demonstrates how to create an even contribution schedule for sinking fund envelopes using the Independent Scheduler. The Independent Scheduler creates smooth, predictable contribution patterns for each bill without considering interactions between different bills.\n",
    "\n",
    "The workflow shown here represents a typical sinking fund management process:\n",
    "1. Load bills from a data source\n",
    "2. Allocate any existing balance to the appropriate envelopes\n",
    "3. Create a contribution schedule to fully fund each bill by its due date\n",
    "\n",
    "The Independent Scheduler is ideal when you want clear visibility into how much you're contributing to each bill over time, with consistent contribution amounts for each individual bill."
   ]
  },
  {
   "cell_type": "markdown",
   "metadata": {},
   "source": [
    "## Imports"
   ]
  },
  {
   "cell_type": "code",
   "execution_count": 1,
   "metadata": {},
   "outputs": [],
   "source": [
    "########################################################################\n",
    "## FOR NOTEBOOKS ONLY: ADD THE PROJECT ROOT TO THE PYTHON PATH\n",
    "########################################################################\n",
    "\n",
    "import os\n",
    "import sys\n",
    "\n",
    "sys.path.insert(\n",
    "    0, os.path.abspath(os.path.join(os.getcwd(), '..'))\n",
    ")\n",
    "\n",
    "# Imports.\n",
    "import datetime\n",
    "from sinkingfund.allocation.sorted import SortedAllocator\n",
    "from sinkingfund.schedules.indep_scheduler import IndependentScheduler\n",
    "from sinkingfund.models.bills import Bill\n",
    "from sinkingfund.models.envelope import Envelope"
   ]
  },
  {
   "cell_type": "markdown",
   "metadata": {},
   "source": [
    "## Creating a Set of Bills and Envelopes"
   ]
  },
  {
   "cell_type": "code",
   "execution_count": 2,
   "metadata": {},
   "outputs": [],
   "source": [
    "bills = [\n",
    "    {\n",
    "        'bill_id': 'car_insurance',\n",
    "        'service': 'Insurance',\n",
    "        'amount_due': 800,\n",
    "        'recurring': True,\n",
    "        'start_date': datetime.date(2026, 4, 24),\n",
    "        'frequency': 'monthly',\n",
    "        'interval': 6\n",
    "    },\n",
    "    {\n",
    "        'bill_id': 'car_registration',\n",
    "        'service': 'Registration',\n",
    "        'amount_due': 300,\n",
    "        'recurring': True,\n",
    "        'start_date': datetime.date(2026, 5, 1),\n",
    "        'frequency': 'annual',\n",
    "        'interval': 1\n",
    "    },\n",
    "    {\n",
    "        'bill_id': 'property_taxes',\n",
    "        'service': 'Taxes',\n",
    "        'amount_due': 5000,\n",
    "        'recurring': True,\n",
    "        'start_date': datetime.date(2026, 11, 1),\n",
    "        'frequency': 'annual',\n",
    "        'interval': 1\n",
    "    }\n",
    "]\n",
    "\n",
    "bills = [Bill(**b) for b in bills]\n",
    "envelopes = [Envelope(bill=b, interval=14) for b in bills]"
   ]
  },
  {
   "cell_type": "markdown",
   "metadata": {},
   "source": [
    "## Allocate the Balance\n",
    "\n",
    "Allocate any existing balance using the sorted allocation and the cascade sort key."
   ]
  },
  {
   "cell_type": "code",
   "execution_count": 3,
   "metadata": {},
   "outputs": [],
   "source": [
    "# The start date of the contribution schedule. The current balance must\n",
    "# match the balance at the start date. If there are unpaid bills in the\n",
    "# account, you manually need to remove their amounts from the balance.\n",
    "start_date = datetime.date(2025, 10, 25)\n",
    "balance = 1000"
   ]
  },
  {
   "cell_type": "code",
   "execution_count": 4,
   "metadata": {},
   "outputs": [
    {
     "name": "stdout",
     "output_type": "stream",
     "text": [
      "True\n",
      "[('car_insurance', 800, 800, 0), ('car_registration', 300, 200, 100), ('property_taxes', 5000, 0, 5000)]\n"
     ]
    }
   ],
   "source": [
    "# Initialize the allocator.\n",
    "allocator = SortedAllocator(sort_key='cascade')\n",
    "\n",
    "# Allocate the balance to the envelopes.\n",
    "allocator.allocate(envelopes=envelopes, balance=balance, curr_date=start_date)\n",
    "\n",
    "# Verify total allocated equals budget.\n",
    "print(sum([e.allocated for e in envelopes if e.allocated is not None]) == balance)\n",
    "print([(e.bill.bill_id, e.bill.amount_due, e.allocated, e.remaining) for e in envelopes])"
   ]
  },
  {
   "cell_type": "markdown",
   "metadata": {},
   "source": [
    "## Creating Contribution Schedules\n",
    "\n",
    "Now we use the Independent Scheduler to create even contribution schedules for each envelope."
   ]
  },
  {
   "cell_type": "code",
   "execution_count": 5,
   "metadata": {},
   "outputs": [
    {
     "name": "stdout",
     "output_type": "stream",
     "text": [
      "car_insurance True 0 0\n",
      "car_insurance True 0 0\n",
      "car_registration True 100.0 100\n",
      "car_registration True 100.0 100\n",
      "property_taxes True 5000.0 5000\n",
      "property_taxes True 5000.0 5000\n"
     ]
    }
   ],
   "source": [
    "# Initialize the scheduler.\n",
    "scheduler = IndependentScheduler()\n",
    "\n",
    "# Schedule the contributions.\n",
    "scheduler.schedule(envelopes=envelopes, start_date=start_date)\n",
    "\n",
    "# Verify (1) that the total contributions equal to the amount remaining;\n",
    "# (2) that the total contributions plus the initial allocation equals\n",
    "# the amount due.\n",
    "for e in envelopes:\n",
    "    \n",
    "    if e.schedule is None:\n",
    "        continue\n",
    "\n",
    "    contrib = sum(cf.amount for cf in e.schedule if cf.amount > 0)\n",
    "    print(e.bill.bill_id, contrib == e.remaining, contrib, e.remaining)\n",
    "    print(e.bill.bill_id, contrib + e.allocated == e.bill.amount_due, contrib, e.remaining)"
   ]
  },
  {
   "cell_type": "markdown",
   "metadata": {},
   "source": [
    "## Examining the Results\n",
    "\n",
    "The scheduler creates a series of cash flows for each envelope.\n",
    "\n",
    "Notice how the Independent Scheduler:\n",
    "- Creates evenly-sized contributions (except potentially the first one).\n",
    "- Spaces them at the specified interval (14 days).\n",
    "- Adds a final negative cash flow representing the bill payment.\n",
    "- Ensures the total contributions exactly equal the remaining amount needed.\n",
    "\n",
    "This predictable, regular contribution pattern makes budget planning straightforward and gives you clear visibility into how you're progressing toward each financial goal."
   ]
  },
  {
   "cell_type": "code",
   "execution_count": 8,
   "metadata": {},
   "outputs": [
    {
     "data": {
      "text/plain": [
       "[CashFlow(bill_id='car_registration', date=datetime.date(2025, 10, 25), amount=3.54),\n",
       " CashFlow(bill_id='car_registration', date=datetime.date(2025, 11, 8), amount=7.42),\n",
       " CashFlow(bill_id='car_registration', date=datetime.date(2025, 11, 22), amount=7.42),\n",
       " CashFlow(bill_id='car_registration', date=datetime.date(2025, 12, 6), amount=7.42),\n",
       " CashFlow(bill_id='car_registration', date=datetime.date(2025, 12, 20), amount=7.42),\n",
       " CashFlow(bill_id='car_registration', date=datetime.date(2026, 1, 3), amount=7.42),\n",
       " CashFlow(bill_id='car_registration', date=datetime.date(2026, 1, 17), amount=7.42),\n",
       " CashFlow(bill_id='car_registration', date=datetime.date(2026, 1, 31), amount=7.42),\n",
       " CashFlow(bill_id='car_registration', date=datetime.date(2026, 2, 14), amount=7.42),\n",
       " CashFlow(bill_id='car_registration', date=datetime.date(2026, 2, 28), amount=7.42),\n",
       " CashFlow(bill_id='car_registration', date=datetime.date(2026, 3, 14), amount=7.42),\n",
       " CashFlow(bill_id='car_registration', date=datetime.date(2026, 3, 28), amount=7.42),\n",
       " CashFlow(bill_id='car_registration', date=datetime.date(2026, 4, 11), amount=7.42),\n",
       " CashFlow(bill_id='car_registration', date=datetime.date(2026, 4, 25), amount=7.42),\n",
       " CashFlow(bill_id='car_registration', date=datetime.date(2026, 5, 1), amount=-300)]"
      ]
     },
     "execution_count": 8,
     "metadata": {},
     "output_type": "execute_result"
    }
   ],
   "source": [
    "envelopes[1].schedule"
   ]
  }
 ],
 "metadata": {
  "kernelspec": {
   "display_name": "sinkingfund-r7ePPuil-py3.12",
   "language": "python",
   "name": "python3"
  },
  "language_info": {
   "codemirror_mode": {
    "name": "ipython",
    "version": 3
   },
   "file_extension": ".py",
   "mimetype": "text/x-python",
   "name": "python",
   "nbconvert_exporter": "python",
   "pygments_lexer": "ipython3",
   "version": "3.12.1"
  }
 },
 "nbformat": 4,
 "nbformat_minor": 2
}
