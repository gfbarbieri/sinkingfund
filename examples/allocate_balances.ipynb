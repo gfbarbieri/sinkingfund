{
 "cells": [
  {
   "cell_type": "markdown",
   "metadata": {},
   "source": [
    "# Example:Allocating Balances"
   ]
  },
  {
   "cell_type": "markdown",
   "metadata": {},
   "source": [
    "## Imports"
   ]
  },
  {
   "cell_type": "code",
   "execution_count": 2,
   "metadata": {},
   "outputs": [],
   "source": [
    "########################################################################\n",
    "## FOR NOTEBOOKS ONLY: ADD THE PROJECT ROOT TO THE PYTHON PATH\n",
    "########################################################################\n",
    "\n",
    "import os\n",
    "import sys\n",
    "\n",
    "sys.path.insert(\n",
    "    0, os.path.abspath(os.path.join(os.getcwd(), '..'))\n",
    ")"
   ]
  },
  {
   "cell_type": "code",
   "execution_count": 3,
   "metadata": {},
   "outputs": [],
   "source": [
    "import datetime\n",
    "\n",
    "from sinkingfund.allocation.sorted import SortedAllocator\n",
    "from sinkingfund.utils.loader import load_envelopes_from_csv"
   ]
  },
  {
   "cell_type": "markdown",
   "metadata": {},
   "source": [
    "## Load Bills"
   ]
  },
  {
   "cell_type": "code",
   "execution_count": 19,
   "metadata": {},
   "outputs": [],
   "source": [
    "path = 'data/schwab_fund.csv'\n",
    "interval = 14\n",
    "\n",
    "envelopes = load_envelopes_from_csv(path=path, contrib_intervals=interval)"
   ]
  },
  {
   "cell_type": "markdown",
   "metadata": {},
   "source": [
    "## Allocate Balance"
   ]
  },
  {
   "cell_type": "code",
   "execution_count": 6,
   "metadata": {},
   "outputs": [],
   "source": [
    "# The start date of the contribution schedule. The current balance must\n",
    "# match the balance at the start date. If there are unpaid bills in the\n",
    "# account, you manually need to remove their amounts from the balance.\n",
    "start_date = datetime.date(2025, 6, 1)\n",
    "balance = 15026.41"
   ]
  },
  {
   "cell_type": "markdown",
   "metadata": {},
   "source": [
    "### Cascading Allocation"
   ]
  },
  {
   "cell_type": "code",
   "execution_count": 12,
   "metadata": {},
   "outputs": [
    {
     "name": "stdout",
     "output_type": "stream",
     "text": [
      "True\n",
      "[('car_insur_1', 774.76, None, None), ('suburu_reg', 191.0, 0.0, 191.0), ('honda_reg', 334.0, 0.0, 334.0), ('prop_tax_supl_2024', 11520.23, 11520.23, 0.0), ('car_insur', 774.76, 774.76, 0.0), ('prop_tax_1', 13161.15, 2731.42, 10429.73), ('prop_tax_2', 13161.15, 0.0, 13161.15), ('home_insur', 3000.0, 0.0, 3000.0)]\n"
     ]
    }
   ],
   "source": [
    "# Initialize the allocator.\n",
    "allocator = SortedAllocator(sort_key='cascade')\n",
    "\n",
    "# Allocate the balance to the envelopes.\n",
    "allocator.allocate(envelopes=envelopes, balance=balance, curr_date=start_date)\n",
    "\n",
    "# Verify total allocated equals budget.\n",
    "print(sum([e.allocated for e in envelopes if e.allocated is not None]) == balance)\n",
    "print([(e.bill.bill_id, e.bill.amount_due, e.allocated, e.remaining) for e in envelopes])"
   ]
  },
  {
   "cell_type": "markdown",
   "metadata": {},
   "source": [
    "### Debt Snowball Allocation"
   ]
  },
  {
   "cell_type": "code",
   "execution_count": 27,
   "metadata": {},
   "outputs": [
    {
     "name": "stdout",
     "output_type": "stream",
     "text": [
      "True\n",
      "[('car_insur_1', 774.76, None, None), ('suburu_reg', 191.0, 191.0, 0.0), ('honda_reg', 334.0, 334.0, 0.0), ('prop_tax_supl_2024', 11520.23, 10726.65, 793.5799999999999), ('car_insur', 774.76, 774.76, 0.0), ('prop_tax_1', 13161.15, 0.0, 13161.15), ('prop_tax_2', 13161.15, 0.0, 13161.15), ('home_insur', 3000.0, 3000.0, 0.0)]\n"
     ]
    }
   ],
   "source": [
    "# Initialize the allocator.\n",
    "allocator = SortedAllocator(sort_key='debt_snowball')\n",
    "\n",
    "# Allocate the balance to the envelopes.\n",
    "allocator.allocate(envelopes=envelopes, balance=balance, curr_date=start_date)\n",
    "\n",
    "# Verify total allocated equals budget.\n",
    "print(sum([e.allocated for e in envelopes if e.allocated is not None]) == balance)\n",
    "print([(e.bill.bill_id, e.bill.amount_due, e.allocated, e.remaining) for e in envelopes])"
   ]
  },
  {
   "cell_type": "markdown",
   "metadata": {},
   "source": [
    "### Custom Sorting"
   ]
  },
  {
   "cell_type": "code",
   "execution_count": 30,
   "metadata": {},
   "outputs": [
    {
     "name": "stdout",
     "output_type": "stream",
     "text": [
      "True\n",
      "[('car_insur_1', 774.76, None, None), ('suburu_reg', 191.0, 0.0, 191.0), ('honda_reg', 334.0, 0.0, 334.0), ('prop_tax_supl_2024', 11520.23, 11520.23, 0.0), ('car_insur', 774.76, 0.0, 774.76), ('prop_tax_1', 13161.15, 3506.1800000000003, 9654.97), ('prop_tax_2', 13161.15, 0.0, 13161.15), ('home_insur', 3000.0, 0.0, 3000.0)]\n"
     ]
    }
   ],
   "source": [
    "# Sort by service type priority\n",
    "def service_priority(bill: 'BillInstance') -> int:\n",
    "\n",
    "    priorities = {\n",
    "        \"prop_tax_supl_2024\": 1, \"prop_tax_1\": 2, \"prop_tax_2\": 3\n",
    "    }\n",
    "\n",
    "    # Iterate over the priorities and return the priority of the service\n",
    "    # type.\n",
    "    for service, priority in priorities.items():\n",
    "\n",
    "        # If the service type is in the bill, return the priority.\n",
    "        if bill.bill_id.lower() == service.lower():\n",
    "            return priority\n",
    "\n",
    "    # Default low priority.\n",
    "    return 99\n",
    "\n",
    "# Initialize the allocator.\n",
    "allocator = SortedAllocator(sort_key=service_priority)\n",
    "\n",
    "# Allocate the balance to the envelopes.\n",
    "allocator.allocate(envelopes=envelopes, balance=balance, curr_date=start_date)\n",
    "\n",
    "# Verify total allocated equals budget.\n",
    "print(sum([e.allocated for e in envelopes if e.allocated is not None]) == balance)\n",
    "print([(e.bill.bill_id, e.bill.amount_due, e.allocated, e.remaining) for e in envelopes])"
   ]
  }
 ],
 "metadata": {
  "kernelspec": {
   "display_name": "returns-to-scale-0x8FbXyN-py3.12",
   "language": "python",
   "name": "python3"
  },
  "language_info": {
   "codemirror_mode": {
    "name": "ipython",
    "version": 3
   },
   "file_extension": ".py",
   "mimetype": "text/x-python",
   "name": "python",
   "nbconvert_exporter": "python",
   "pygments_lexer": "ipython3",
   "version": "3.12.1"
  }
 },
 "nbformat": 4,
 "nbformat_minor": 2
}
